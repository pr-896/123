{
  "nbformat": 4,
  "nbformat_minor": 0,
  "metadata": {
    "colab": {
      "provenance": [],
      "authorship_tag": "ABX9TyOJ33vGJR/VUJ2ErJesnOxR",
      "include_colab_link": true
    },
    "kernelspec": {
      "name": "python3",
      "display_name": "Python 3"
    },
    "language_info": {
      "name": "python"
    }
  },
  "cells": [
    {
      "cell_type": "markdown",
      "metadata": {
        "id": "view-in-github",
        "colab_type": "text"
      },
      "source": [
        "<a href=\"https://colab.research.google.com/github/pranuthipachigalla/123/blob/main/Dictionary.ipynb\" target=\"_parent\"><img src=\"https://colab.research.google.com/assets/colab-badge.svg\" alt=\"Open In Colab\"/></a>"
      ]
    },
    {
      "cell_type": "code",
      "execution_count": 1,
      "metadata": {
        "colab": {
          "base_uri": "https://localhost:8080/"
        },
        "id": "aL3cT3YjBz0G",
        "outputId": "66dcc3b1-afe6-4a98-e27c-8911bf8b6b20"
      },
      "outputs": [
        {
          "output_type": "stream",
          "name": "stdout",
          "text": [
            "{'id': 39, 'name': 'pranuthi', 'age': 22}\n",
            "[{'name': 'Pranuthi', 'age': 21}, {'name': 'Vivek', 'age': 20}, {'name': 'Roy', 'age': 19}, {'name': 'Siri', 'age': 21}, {'name': 'Vallika', 'age': 22}, {'name': 'Mallika', 'age': 25}]\n",
            "<class 'list'>\n",
            "{'id': 123, 'name': 'kumar', 'age': 34}\n",
            "{'name': 'vivek', 'pin': 312, 'city': 'vij', 'salary': 60000}\n",
            "{'name': 'latha', 'pin': 456, 'city': 'hyd', 'salary': 55000}\n",
            "{'name': 'roy', 'pin': 789, 'city': 'hyd', 'salary': 70000}\n",
            "[{'name': 'kumar', 'pin': 123, 'salary': 50000}, {'name': 'pranuthi', 'pin': 231, 'salary': 45000}, {'name': 'vivek', 'pin': 312, 'salary': 60000}, {'name': 'latha', 'pin': 456, 'salary': 55000}, {'name': 'roy', 'pin': 789, 'salary': 70000}]\n",
            "[10, 45, 'pranuthi', 50]\n",
            "10\n",
            "45 pranuthi\n",
            "50\n"
          ]
        }
      ],
      "source": [
        "# Create a dictionary from two lists:\n",
        "keys = ['id', 'name', 'age']\n",
        "values = [39, 'pranuthi', 22]\n",
        "res=dict(zip(keys,values))\n",
        "print(res)\n",
        "\n",
        "# Create a dictionary to store student name and age.\n",
        "student=[{'name':'Pranuthi','age':21},{'name':'Vivek','age':20},{'name':'Roy','age':19},\n",
        "         {'name':'Siri','age':21},{'name':'Vallika','age':22},{'name':'Mallika','age':25}]\n",
        "print(student)\n",
        "print(type(student))\n",
        "\n",
        "# Create an empty dictionary and add key-value pairs one by one.\n",
        "employee=dict()\n",
        "employee['id']=123\n",
        "employee['name']='kumar'\n",
        "employee['age']=34\n",
        "print(employee)\n",
        "\n",
        "# emp=dict()\n",
        "# emp['id']=input('enter id')\n",
        "# emp['name']=input('enter name')\n",
        "# emp['age']=input('enter age')\n",
        "# print(emp)\n",
        "\n",
        "# Get the value of key \"salary\" from this dictionary: EX: employee = {'name': 'John', 'age': 30, 'salary': 50000}\n",
        "res=[{'name': 'kumar','pin':123,'city':\"vij\",'salary':50000},\n",
        "     {'name': 'pranuthi','pin':231,'city':\"hyd\",'salary':45000},\n",
        "     {'name': 'vivek','pin':312,'city':\"vij\",'salary':60000},\n",
        "     {'name': 'latha','pin':456,'city':\"hyd\",'salary':55000},\n",
        "     {'name': 'roy','pin':789,'city':\"hyd\",'salary':70000}]\n",
        "for i in res:\n",
        "    if i['salary']>50000:\n",
        "        print(i)\n",
        "\n",
        "# Remove the last inserted key-value pair from the dictionary using an appropriate method\n",
        "res=[{'name': 'kumar','pin':123,'city':\"vij\",'salary':50000},\n",
        "     {'name': 'pranuthi','pin':231,'city':\"hyd\",'salary':45000},\n",
        "     {'name': 'vivek','pin':312,'city':\"vij\",'salary':60000},\n",
        "     {'name': 'latha','pin':456,'city':\"hyd\",'salary':55000},\n",
        "     {'name': 'roy','pin':789,'city':\"hyd\",'salary':70000}]\n",
        "for i in res:\n",
        "    i.pop('city')\n",
        "print(res)\n",
        "\n",
        "# Define packing and unpacking in Python. Also, provide one example for both packing and unpacking.\n",
        "# packing :: Packing refers to grouping multiple values into a single variable using a data structure like a tuple, list, or dictionary.\n",
        "# unpacking :: Unpacking refers to extracting individual values from a packed data structure and assigning them to variables.\n",
        "\n",
        "# packing\n",
        "k=[10,45,'pranuthi',50]\n",
        "print(k)\n",
        "\n",
        "# unpacking\n",
        "k=[10,45,'pranuthi',50]\n",
        "a,*b,c=k\n",
        "print(a)\n",
        "print(*b)\n",
        "print(c)"
      ]
    }
  ]
}