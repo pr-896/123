{
  "nbformat": 4,
  "nbformat_minor": 0,
  "metadata": {
    "colab": {
      "provenance": [],
      "authorship_tag": "ABX9TyP88kHomobyM2k8V2DXUzGU",
      "include_colab_link": true
    },
    "kernelspec": {
      "name": "python3",
      "display_name": "Python 3"
    },
    "language_info": {
      "name": "python"
    }
  },
  "cells": [
    {
      "cell_type": "markdown",
      "metadata": {
        "id": "view-in-github",
        "colab_type": "text"
      },
      "source": [
        "<a href=\"https://colab.research.google.com/github/pranuthipachigalla/123/blob/main/Dictionary2.ipynb\" target=\"_parent\"><img src=\"https://colab.research.google.com/assets/colab-badge.svg\" alt=\"Open In Colab\"/></a>"
      ]
    },
    {
      "cell_type": "code",
      "execution_count": 1,
      "metadata": {
        "colab": {
          "base_uri": "https://localhost:8080/"
        },
        "id": "r5JpeooCL5WW",
        "outputId": "8918dabc-91cb-4236-80d8-f1d40fd80c76"
      },
      "outputs": [
        {
          "output_type": "stream",
          "name": "stdout",
          "text": [
            "{'age': 25, 'city': 'New york'}\n",
            "{'p': 2, 'r': 1, 'a': 4, 'n': 1, 'u': 1, 't': 1, 'h': 2, 'i': 2, 'c': 1, 'g': 1, 'l': 2}\n",
            "{'student1': {'name': 'valli', 'roll': 101, 'marks': 85}, 'student2': {'name': 'bunny', 'roll': 102, 'marks': 90}, 'student3': {'name': 'siri', 'roll': 103, 'marks': 78}}\n",
            "{'student1': {'name': 'valli', 'roll': 101, 'marks': 85}, 'student2': {'name': 'bunny', 'roll': 102, 'marks': 90}, 'student3': {'name': 'siri', 'roll': 103, 'marks': 78}}\n",
            "('student1', {'name': 'valli', 'roll': 101, 'marks': 85})\n",
            "('student2', {'name': 'bunny', 'roll': 102, 'marks': 90})\n",
            "('student3', {'name': 'siri', 'roll': 103, 'marks': 78})\n",
            "{'pranuthi': 8, 'bunny': 5, 'siri': 4, 'vivek': 5}\n",
            "{1: 'odd', 2: 'even', 3: 'odd', 4: 'even', 5: 'odd'}\n",
            "{'cat': 'tac', 'dog': 'god', 'bat': 'tab'}\n"
          ]
        }
      ],
      "source": [
        "# Delete a list of keys from a dictionary\n",
        "# sample_dict = {\"name\": \"Kelly\",\"age\": 25, \"salary\": 8000, \"city\": \"New york\"}    ===============Keys to remove  keys = [\"name\", \"salary\"]\n",
        "sample_dict = {\"name\": \"Kelly\",\"age\": 25, \"salary\": 8000, \"city\": \"New york\"}\n",
        "keys = [\"name\", \"salary\"]\n",
        "for i in keys:\n",
        "    sample_dict.pop(i)\n",
        "print(sample_dict)\n",
        "\n",
        "# Count the frequency of each character in a given string using a dictionary.\n",
        "p=\"pranuthipachigalla\"\n",
        "fre={}\n",
        "for i in p:\n",
        "    if i in fre:\n",
        "        fre[i]+=1\n",
        "    else:\n",
        "        fre[i]=1\n",
        "print(fre)\n",
        "\n",
        "# Create a nested dictionary for student details (name, roll, marks).\n",
        "students={\n",
        " 'student1': {'name': 'valli', 'roll': 101, 'marks': 85},\n",
        " 'student2': {'name': 'bunny', 'roll': 102, 'marks': 90},\n",
        " 'student3': {'name': 'siri', 'roll': 103, 'marks': 78}\n",
        "}\n",
        "print(students)\n",
        "\n",
        "# Convert a dictionary to a list of tuples.\n",
        "students={\n",
        " 'student1': {'name': 'valli', 'roll': 101, 'marks': 85},\n",
        " 'student2': {'name': 'bunny', 'roll': 102, 'marks': 90},\n",
        " 'student3': {'name': 'siri', 'roll': 103, 'marks': 78}\n",
        "}\n",
        "print(students)\n",
        "for i in students.items():\n",
        "    print(i)\n",
        "\n",
        "# Write a program to store names as keys and their lengths as values.\n",
        "names=['pranuthi','bunny','siri','vivek']\n",
        "l={}\n",
        "for i in names:\n",
        "    l[i]=len(i)\n",
        "print(l)\n",
        "\n",
        "# Create a dictionary for numbers 1 to 5, where the value is \"even\" if the number is even, and \"odd\" if the number is odd\n",
        "# Expected Output: {1: 'odd', 2: 'even', 3: 'odd', 4: 'even', 5: 'odd'}\n",
        "k=[1,2,3,4,5]\n",
        "num={}\n",
        "for i in k:\n",
        "    if i%2==0:\n",
        "        num[i]='even'\n",
        "    else:\n",
        "        num[i]='odd'\n",
        "print(num)\n",
        "\n",
        "# Create Reverse Word Dictionary\n",
        "\n",
        "# Given list of words: words = [\"cat\", \"dog\", \"bat\"]\n",
        "# Create a dictionary with words as keys and their reversed strings as values\n",
        "# Expected Output:\n",
        "# {'cat': 'tac', 'dog': 'god', 'bat': 'tab'}\n",
        "\n",
        "words = [\"cat\", \"dog\", \"bat\"]\n",
        "h={}\n",
        "for i in words:\n",
        "    h[i]=i[::-1]\n",
        "print(h)"
      ]
    }
  ]
}