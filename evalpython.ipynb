{
  "nbformat": 4,
  "nbformat_minor": 0,
  "metadata": {
    "colab": {
      "provenance": [],
      "authorship_tag": "ABX9TyMe0VRVOx2EkTFHvj1laOEi",
      "include_colab_link": true
    },
    "kernelspec": {
      "name": "python3",
      "display_name": "Python 3"
    },
    "language_info": {
      "name": "python"
    }
  },
  "cells": [
    {
      "cell_type": "markdown",
      "metadata": {
        "id": "view-in-github",
        "colab_type": "text"
      },
      "source": [
        "<a href=\"https://colab.research.google.com/github/pranuthipachigalla/123/blob/main/evalpython.ipynb\" target=\"_parent\"><img src=\"https://colab.research.google.com/assets/colab-badge.svg\" alt=\"Open In Colab\"/></a>"
      ]
    },
    {
      "cell_type": "code",
      "execution_count": 3,
      "metadata": {
        "colab": {
          "base_uri": "https://localhost:8080/"
        },
        "id": "gsevYv0fsquU",
        "outputId": "a5de5e0c-51c0-45e2-b06d-f226aa86c7ca"
      },
      "outputs": [
        {
          "output_type": "stream",
          "name": "stdout",
          "text": [
            "enter a number :: 4\n",
            "<class 'str'> ==== 4\n",
            "4 === <class 'int'>\n",
            "Enter two float numbers separated by space: 4.5 6.7\n",
            "Product: 30.150000000000002\n",
            "enter expession:: 9*3\n",
            "27\n",
            "enter list ::[10,20,30,40]\n",
            "[10, 20, 30, 40] ---- <class 'list'>\n",
            "100\n",
            "enter bool :: 4==5\n",
            "False ---- <class 'bool'>\n",
            "enter float ::53.6\n",
            "53.6 ---- <class 'str'>\n",
            "53.6 ---- <class 'float'>\n",
            "2872.96\n",
            "enter dictionary ::{'a':10,'b':30}\n",
            "values : dict_keys(['a', 'b'])\n",
            "values : dict_values([10, 30])\n",
            "Enter any Python literal: 53\n",
            "Type: <class 'int'>\n",
            "Enter first value (int): 4\n",
            "Enter second value (float): 4.5\n",
            "Sum: 8.5\n"
          ]
        }
      ],
      "source": [
        "# Basic Input with Integer Conversion\n",
        "# Take two numbers as input from the user, convert them to integers, and print their sum.\n",
        "k=input(\"enter a number :: \")\n",
        "print(type(k),\"====\",k)\n",
        "res=int(k)\n",
        "print(res,\"===\",type(res))\n",
        "\n",
        "# Multiple Inputs with Space Separation\n",
        "# Take two floating-point numbers as input in a single line separated by space and print their product.\n",
        "num = input(\"Enter two float numbers separated by space: \")\n",
        "res = num.split()\n",
        "a = float(res[0])\n",
        "b = float(res[1])\n",
        "print(\"Product:\", a * b)\n",
        "\n",
        "# Expression Evaluation with eval()\n",
        "# Take a mathematical expression from the user as input and print the evaluated result.\n",
        "eva=input(\"enter expession:: \")\n",
        "res=eval(eva)\n",
        "print(res)\n",
        "\n",
        "# List Input using eval()\n",
        "# Take a list as input using eval() and print the sum of its elements.\n",
        "k=eval(input(\"enter list ::\"))\n",
        "print(k,\"----\",type(k))\n",
        "sum=0\n",
        "for i in k:\n",
        "    sum=sum+i\n",
        "print(sum)\n",
        "\n",
        "# Boolean Type Conversion\n",
        "# Take an input from the user, convert it to boolean, and print the result.\n",
        "inpt=eval(input(\"enter bool :: \"))\n",
        "print(inpt,'----',type(inpt))\n",
        "\n",
        "# String to Float Conversion\n",
        "# Take a floating-point number as string input, convert it to float, and print its square.\n",
        "\n",
        "inp=input(\"enter float ::\")\n",
        "res=float(inp)\n",
        "print(inp,'----',type(inp))\n",
        "print(res,'----',type(res))\n",
        "print(res**2)\n",
        "\n",
        "# Dictionary Input using eval()\n",
        "# Take a dictionary as input using eval() and print its keys and values separately.\n",
        "inp=eval(input(\"enter dictionary ::\"))\n",
        "print('values :',inp.keys())\n",
        "print('values :',inp.values())\n",
        "\n",
        "# List of Integers from Space Separated Input\n",
        "# Take a list of integers as input in a single line separated by space and print the maximum and minimum values.\n",
        "# np = input(\"enter list :: \")\n",
        "# res = [eval(i) for i in np.split()]\n",
        "# print(max(res), 'maximum')\n",
        "# print(min(res), 'minimum')\n",
        "\n",
        "# Mixed Type Literal Input with eval()\n",
        "# Take any Python literal as input (string, list, tuple, int, etc.) using eval() and print its type.\n",
        "\n",
        "value = eval(input(\"Enter any Python literal: \"))\n",
        "print(\"Type:\", type(value))\n",
        "\n",
        "# Combined Type Conversion\n",
        "# Take two inputs, convert the first to integer and second to float, then print their sum.\n",
        "\n",
        "a = eval(input(\"Enter first value (int): \"))\n",
        "b = eval(input(\"Enter second value (float): \"))\n",
        "print(\"Sum:\", a + b)\n"
      ]
    }
  ]
}